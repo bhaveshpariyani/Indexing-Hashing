{
 "cells": [
  {
   "cell_type": "code",
   "execution_count": null,
   "metadata": {},
   "outputs": [],
   "source": [
    "import math\n",
    "count = 4\n",
    "split_pointer = 0       #pointer for pointing the split bucket\n",
    "phase = 0\n",
    "load_factor = 0.7\n",
    "no_of_buckets = count\n",
    "\n",
    "class Bucket(object):\n",
    "    def __init__(self):\n",
    "        self.values = []\n",
    "        self.next = None\n",
    "\n",
    "def count_load_factor(Buckets):\n",
    "    count = 0\n",
    "    capacity = 2*len(Buckets)\n",
    "    for i in Buckets:\n",
    "        count = count + len(i.values)\n",
    "        temp = i.next\n",
    "        while(temp!=None):\n",
    "            count = count + len(temp.values)\n",
    "            temp = temp.next\n",
    "    load_factor = count/capacity\n",
    "    return load_factor\n",
    "\n",
    "\n",
    "def enter_data(object,value,Buckets):\n",
    "    if(len(object.values)>=2):\n",
    "        if(object.next == None):\n",
    "            object.next = Bucket()\n",
    "            temp = object.next\n",
    "            enter_data(temp,value,Buckets)\n",
    "        else:\n",
    "            temp = object.next\n",
    "            enter_data(temp,value,Buckets)\n",
    "    else:\n",
    "        object.values.append(value)\n",
    "        count_load_factor_temp = count_load_factor(Buckets)\n",
    "        if(count_load_factor_temp > load_factor):\n",
    "            split(Buckets)\n",
    "        \n",
    "def print_data(object):\n",
    "    temp = object.values\n",
    "    print(temp, end = '')\n",
    "    \n",
    "    if(object.next!=None):\n",
    "        print(\"==>\", end = '')\n",
    "        print_data(object.next)\n",
    "\n",
    "def hash(value):\n",
    "    hash_value = value%(count*pow(2,phase))\n",
    "    return hash_value\n",
    "\n",
    "def new_hash(value,Buckets):\n",
    "    hash_value = value%(count*pow(2,phase+1))\n",
    "    if (hash_value > (len(Buckets)-1)):\n",
    "        hash_value = hash(value)\n",
    "    return hash_value\n",
    "\n",
    "def print_all_buckets(buckets):\n",
    "    for i in range(0,len(buckets)):\n",
    "        print(\"\")\n",
    "        print(i,\"==\",end = '')\n",
    "        print_data(buckets[i])\n",
    "#     for bucket in buckets:\n",
    "#         print(\"\")\n",
    "#         print_data(bucket)\n",
    "\n",
    "def make_none(object):\n",
    "    if(object.next!=None):\n",
    "        make_none(object.next)\n",
    "    object.next = None\n",
    "\n",
    "def expand(Buckets):\n",
    "    Buckets.append(Bucket())\n",
    "    \n",
    "def reorganize():\n",
    "    global split_pointer\n",
    "    global phase\n",
    "    global no_of_buckets\n",
    "    if(split_pointer == (count*pow(2,phase)-1)):\n",
    "        split_pointer = 0\n",
    "        phase = phase + 1\n",
    "    else:\n",
    "        split_pointer = split_pointer + 1\n",
    "        no_of_buckets = no_of_buckets + 1\n",
    "def split(Buckets):\n",
    "    temp_list = []\n",
    "    temp = Buckets[split_pointer].next\n",
    "    \n",
    "    #first append all first bucket values in temp_list & clear the list simultaneously\n",
    "    for i in Buckets[split_pointer].values:\n",
    "        temp_list.append(i);\n",
    "    \n",
    "    Buckets[split_pointer].values.clear()\n",
    "    #then append all overflow bucket values in temp_list\n",
    "    while(temp!=None):\n",
    "        for i in temp.values:\n",
    "            temp_list.append(i)\n",
    "        temp.values.clear()\n",
    "        temp = temp.next\n",
    "    make_none(Buckets[split_pointer])\n",
    "    \n",
    "    expand(Buckets)\n",
    "    for i in temp_list:\n",
    "        index = new_hash(i,Buckets)\n",
    "        enter_data(Buckets[index],i,Buckets)\n",
    "    \n",
    "    reorganize()\n",
    "\n",
    "def trace(object,key,index):\n",
    "    list = object.values\n",
    "    check = key in list\n",
    "    if(check):\n",
    "        print(key,\" found in Bucket \",index)\n",
    "    else:\n",
    "        if(object.next!=None):\n",
    "            trace(object.next,key,index)\n",
    "        else:\n",
    "              print(key,\" is not in any buckets\")\n",
    "def search(key,Buckets):\n",
    "    index = hash(key)\n",
    "    object = Buckets[index]\n",
    "    trace(object,key,index)"
   ]
  },
  {
   "cell_type": "code",
   "execution_count": null,
   "metadata": {},
   "outputs": [],
   "source": [
    "Buckets = []\n",
    "for i in range(0,count):\n",
    "    Buckets.append(Bucket())\n"
   ]
  },
  {
   "cell_type": "code",
   "execution_count": null,
   "metadata": {
    "scrolled": true
   },
   "outputs": [],
   "source": [
    "values = [3,2,4,1,8,14,5,]\n",
    "index = hash(3)\n",
    "enter_data(Buckets[index],3,Buckets)\n",
    "print_all_buckets(Buckets)"
   ]
  },
  {
   "cell_type": "code",
   "execution_count": null,
   "metadata": {
    "scrolled": true
   },
   "outputs": [],
   "source": [
    "index = hash(2)\n",
    "enter_data(Buckets[index],2,Buckets)\n",
    "print_all_buckets(Buckets)"
   ]
  },
  {
   "cell_type": "code",
   "execution_count": null,
   "metadata": {},
   "outputs": [],
   "source": [
    "index = hash(4)\n",
    "enter_data(Buckets[index],4,Buckets)\n",
    "print_all_buckets(Buckets)"
   ]
  },
  {
   "cell_type": "code",
   "execution_count": null,
   "metadata": {},
   "outputs": [],
   "source": [
    "index = hash(1)\n",
    "enter_data(Buckets[index],1,Buckets)\n",
    "print_all_buckets(Buckets)"
   ]
  },
  {
   "cell_type": "code",
   "execution_count": null,
   "metadata": {},
   "outputs": [],
   "source": [
    "index = hash(8)\n",
    "enter_data(Buckets[index],8,Buckets)\n",
    "print_all_buckets(Buckets)"
   ]
  },
  {
   "cell_type": "code",
   "execution_count": null,
   "metadata": {},
   "outputs": [],
   "source": [
    "index = hash(14)\n",
    "enter_data(Buckets[index],14,Buckets)\n",
    "print_all_buckets(Buckets)"
   ]
  },
  {
   "cell_type": "code",
   "execution_count": null,
   "metadata": {},
   "outputs": [],
   "source": [
    "index = hash(5)\n",
    "enter_data(Buckets[index],5,Buckets)\n",
    "print_all_buckets(Buckets)"
   ]
  },
  {
   "cell_type": "code",
   "execution_count": null,
   "metadata": {},
   "outputs": [],
   "source": [
    "index = hash(10)\n",
    "enter_data(Buckets[index],10,Buckets)\n",
    "print_all_buckets(Buckets)"
   ]
  },
  {
   "cell_type": "code",
   "execution_count": null,
   "metadata": {},
   "outputs": [],
   "source": [
    "index = hash(7)\n",
    "enter_data(Buckets[index],7,Buckets)\n",
    "print_all_buckets(Buckets)"
   ]
  },
  {
   "cell_type": "code",
   "execution_count": null,
   "metadata": {},
   "outputs": [],
   "source": [
    "index = hash(12)\n",
    "enter_data(Buckets[index],12,Buckets)\n",
    "print_all_buckets(Buckets)"
   ]
  },
  {
   "cell_type": "code",
   "execution_count": null,
   "metadata": {},
   "outputs": [],
   "source": [
    "index = hash(17)\n",
    "enter_data(Buckets[index],17,Buckets)\n",
    "print_all_buckets(Buckets)"
   ]
  },
  {
   "cell_type": "code",
   "execution_count": null,
   "metadata": {},
   "outputs": [],
   "source": [
    "index = hash(13)\n",
    "enter_data(Buckets[index],20,Buckets)\n",
    "print_all_buckets(Buckets)"
   ]
  },
  {
   "cell_type": "code",
   "execution_count": null,
   "metadata": {},
   "outputs": [],
   "source": [
    "index = hash(15)\n",
    "enter_data(Buckets[index],20,Buckets)\n",
    "print_all_buckets(Buckets)"
   ]
  },
  {
   "cell_type": "code",
   "execution_count": null,
   "metadata": {},
   "outputs": [],
   "source": [
    "search(17,Buckets)"
   ]
  },
  {
   "cell_type": "code",
   "execution_count": null,
   "metadata": {},
   "outputs": [],
   "source": []
  }
 ],
 "metadata": {
  "kernelspec": {
   "display_name": "Python 3",
   "language": "python",
   "name": "python3"
  },
  "language_info": {
   "codemirror_mode": {
    "name": "ipython",
    "version": 3
   },
   "file_extension": ".py",
   "mimetype": "text/x-python",
   "name": "python",
   "nbconvert_exporter": "python",
   "pygments_lexer": "ipython3",
   "version": "3.7.0"
  }
 },
 "nbformat": 4,
 "nbformat_minor": 2
}
